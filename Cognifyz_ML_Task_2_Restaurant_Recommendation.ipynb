{
  "nbformat": 4,
  "nbformat_minor": 0,
  "metadata": {
    "colab": {
      "provenance": []
    },
    "kernelspec": {
      "name": "python3",
      "display_name": "Python 3"
    },
    "language_info": {
      "name": "python"
    }
  },
  "cells": [
    {
      "cell_type": "markdown",
      "source": [
        "![Screenshot 2025-05-13 213208.png](data:image/png;base64,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)"
      ],
      "metadata": {
        "id": "c1FQrU0UlluC"
      }
    },
    {
      "cell_type": "markdown",
      "source": [
        "##### NAME - ASHWIN SURESH\n",
        "##### Domain - Machine Learning\n",
        "##### Ref. : CTI/A1/C127540"
      ],
      "metadata": {
        "id": "USIxmfs3n9JW"
      }
    },
    {
      "cell_type": "markdown",
      "source": [
        "---\n",
        "---"
      ],
      "metadata": {
        "id": "CpPc12vziLSy"
      }
    },
    {
      "cell_type": "markdown",
      "source": [
        "# Task 2: Restaurant Recommendation\n",
        "\n",
        "This notebook implements a simple **content‐based filtering** recommender for restaurants, following these steps:\n",
        "\n",
        "1. Data Load & Quality Checks  \n",
        "2. Exploratory Data Analysis  \n",
        "3. Preprocessing & Feature Engineering  \n",
        "4. Visualize Feature Importance by Variance (Proxy for Influence)\n",
        "5. Similarity Computation  \n",
        "6. Evaluate Similarity Methods\n",
        "7. Recommendation Function using Best Similarity\n",
        "8. User Interface for personalized reccomendation\n",
        "9. Interpretation & Business Insights  \n"
      ],
      "metadata": {
        "id": "x0AfnBTciJTx"
      }
    },
    {
      "cell_type": "markdown",
      "source": [
        "---\n",
        "\n",
        "---\n",
        "\n"
      ],
      "metadata": {
        "id": "EPVvhjNun_ST"
      }
    },
    {
      "cell_type": "markdown",
      "source": [
        "## 1. Data Load & Quality Checks\n"
      ],
      "metadata": {
        "id": "BVYECGkEiRx7"
      }
    },
    {
      "cell_type": "markdown",
      "source": [
        "\n",
        "\n",
        "---\n",
        "\n"
      ],
      "metadata": {
        "id": "_n_MXWV_oGoj"
      }
    },
    {
      "cell_type": "code",
      "source": [
        "from google.colab import drive\n",
        "import pandas as pd\n",
        "drive.mount('/content/drive')\n",
        "rest_data = pd.read_csv('/content/drive/MyDrive/Dataset.csv')"
      ],
      "metadata": {
        "colab": {
          "base_uri": "https://localhost:8080/"
        },
        "id": "8jf8wyLvIdGE",
        "outputId": "f29f15b9-47ed-46be-e826-5ac761e9cf89"
      },
      "execution_count": 6,
      "outputs": [
        {
          "output_type": "stream",
          "name": "stdout",
          "text": [
            "Drive already mounted at /content/drive; to attempt to forcibly remount, call drive.mount(\"/content/drive\", force_remount=True).\n"
          ]
        }
      ]
    },
    {
      "cell_type": "markdown",
      "source": [
        "---"
      ],
      "metadata": {
        "id": "YgbnXgPE-4JG"
      }
    },
    {
      "cell_type": "code",
      "source": [
        "display(rest_data.head())"
      ],
      "metadata": {
        "colab": {
          "base_uri": "https://localhost:8080/",
          "height": 810
        },
        "id": "Vld9Y0aLi86O",
        "outputId": "ee9d457e-da0f-4223-d121-cb8ce3ee6513"
      },
      "execution_count": 7,
      "outputs": [
        {
          "output_type": "display_data",
          "data": {
            "text/plain": [
              "   Restaurant ID         Restaurant Name  Country Code              City  \\\n",
              "0        6317637        Le Petit Souffle           162       Makati City   \n",
              "1        6304287        Izakaya Kikufuji           162       Makati City   \n",
              "2        6300002  Heat - Edsa Shangri-La           162  Mandaluyong City   \n",
              "3        6318506                    Ooma           162  Mandaluyong City   \n",
              "4        6314302             Sambo Kojin           162  Mandaluyong City   \n",
              "\n",
              "                                             Address  \\\n",
              "0  Third Floor, Century City Mall, Kalayaan Avenu...   \n",
              "1  Little Tokyo, 2277 Chino Roces Avenue, Legaspi...   \n",
              "2  Edsa Shangri-La, 1 Garden Way, Ortigas, Mandal...   \n",
              "3  Third Floor, Mega Fashion Hall, SM Megamall, O...   \n",
              "4  Third Floor, Mega Atrium, SM Megamall, Ortigas...   \n",
              "\n",
              "                                     Locality  \\\n",
              "0   Century City Mall, Poblacion, Makati City   \n",
              "1  Little Tokyo, Legaspi Village, Makati City   \n",
              "2  Edsa Shangri-La, Ortigas, Mandaluyong City   \n",
              "3      SM Megamall, Ortigas, Mandaluyong City   \n",
              "4      SM Megamall, Ortigas, Mandaluyong City   \n",
              "\n",
              "                                    Locality Verbose   Longitude   Latitude  \\\n",
              "0  Century City Mall, Poblacion, Makati City, Mak...  121.027535  14.565443   \n",
              "1  Little Tokyo, Legaspi Village, Makati City, Ma...  121.014101  14.553708   \n",
              "2  Edsa Shangri-La, Ortigas, Mandaluyong City, Ma...  121.056831  14.581404   \n",
              "3  SM Megamall, Ortigas, Mandaluyong City, Mandal...  121.056475  14.585318   \n",
              "4  SM Megamall, Ortigas, Mandaluyong City, Mandal...  121.057508  14.584450   \n",
              "\n",
              "                           Cuisines  ...          Currency Has Table booking  \\\n",
              "0        French, Japanese, Desserts  ...  Botswana Pula(P)               Yes   \n",
              "1                          Japanese  ...  Botswana Pula(P)               Yes   \n",
              "2  Seafood, Asian, Filipino, Indian  ...  Botswana Pula(P)               Yes   \n",
              "3                   Japanese, Sushi  ...  Botswana Pula(P)                No   \n",
              "4                  Japanese, Korean  ...  Botswana Pula(P)               Yes   \n",
              "\n",
              "  Has Online delivery Is delivering now Switch to order menu Price range  \\\n",
              "0                  No                No                   No           3   \n",
              "1                  No                No                   No           3   \n",
              "2                  No                No                   No           4   \n",
              "3                  No                No                   No           4   \n",
              "4                  No                No                   No           4   \n",
              "\n",
              "   Aggregate rating  Rating color Rating text Votes  \n",
              "0               4.8    Dark Green   Excellent   314  \n",
              "1               4.5    Dark Green   Excellent   591  \n",
              "2               4.4         Green   Very Good   270  \n",
              "3               4.9    Dark Green   Excellent   365  \n",
              "4               4.8    Dark Green   Excellent   229  \n",
              "\n",
              "[5 rows x 21 columns]"
            ],
            "text/html": [
              "\n",
              "  <div id=\"df-75c83804-7f79-446f-ba5d-e00900060823\" class=\"colab-df-container\">\n",
              "    <div>\n",
              "<style scoped>\n",
              "    .dataframe tbody tr th:only-of-type {\n",
              "        vertical-align: middle;\n",
              "    }\n",
              "\n",
              "    .dataframe tbody tr th {\n",
              "        vertical-align: top;\n",
              "    }\n",
              "\n",
              "    .dataframe thead th {\n",
              "        text-align: right;\n",
              "    }\n",
              "</style>\n",
              "<table border=\"1\" class=\"dataframe\">\n",
              "  <thead>\n",
              "    <tr style=\"text-align: right;\">\n",
              "      <th></th>\n",
              "      <th>Restaurant ID</th>\n",
              "      <th>Restaurant Name</th>\n",
              "      <th>Country Code</th>\n",
              "      <th>City</th>\n",
              "      <th>Address</th>\n",
              "      <th>Locality</th>\n",
              "      <th>Locality Verbose</th>\n",
              "      <th>Longitude</th>\n",
              "      <th>Latitude</th>\n",
              "      <th>Cuisines</th>\n",
              "      <th>...</th>\n",
              "      <th>Currency</th>\n",
              "      <th>Has Table booking</th>\n",
              "      <th>Has Online delivery</th>\n",
              "      <th>Is delivering now</th>\n",
              "      <th>Switch to order menu</th>\n",
              "      <th>Price range</th>\n",
              "      <th>Aggregate rating</th>\n",
              "      <th>Rating color</th>\n",
              "      <th>Rating text</th>\n",
              "      <th>Votes</th>\n",
              "    </tr>\n",
              "  </thead>\n",
              "  <tbody>\n",
              "    <tr>\n",
              "      <th>0</th>\n",
              "      <td>6317637</td>\n",
              "      <td>Le Petit Souffle</td>\n",
              "      <td>162</td>\n",
              "      <td>Makati City</td>\n",
              "      <td>Third Floor, Century City Mall, Kalayaan Avenu...</td>\n",
              "      <td>Century City Mall, Poblacion, Makati City</td>\n",
              "      <td>Century City Mall, Poblacion, Makati City, Mak...</td>\n",
              "      <td>121.027535</td>\n",
              "      <td>14.565443</td>\n",
              "      <td>French, Japanese, Desserts</td>\n",
              "      <td>...</td>\n",
              "      <td>Botswana Pula(P)</td>\n",
              "      <td>Yes</td>\n",
              "      <td>No</td>\n",
              "      <td>No</td>\n",
              "      <td>No</td>\n",
              "      <td>3</td>\n",
              "      <td>4.8</td>\n",
              "      <td>Dark Green</td>\n",
              "      <td>Excellent</td>\n",
              "      <td>314</td>\n",
              "    </tr>\n",
              "    <tr>\n",
              "      <th>1</th>\n",
              "      <td>6304287</td>\n",
              "      <td>Izakaya Kikufuji</td>\n",
              "      <td>162</td>\n",
              "      <td>Makati City</td>\n",
              "      <td>Little Tokyo, 2277 Chino Roces Avenue, Legaspi...</td>\n",
              "      <td>Little Tokyo, Legaspi Village, Makati City</td>\n",
              "      <td>Little Tokyo, Legaspi Village, Makati City, Ma...</td>\n",
              "      <td>121.014101</td>\n",
              "      <td>14.553708</td>\n",
              "      <td>Japanese</td>\n",
              "      <td>...</td>\n",
              "      <td>Botswana Pula(P)</td>\n",
              "      <td>Yes</td>\n",
              "      <td>No</td>\n",
              "      <td>No</td>\n",
              "      <td>No</td>\n",
              "      <td>3</td>\n",
              "      <td>4.5</td>\n",
              "      <td>Dark Green</td>\n",
              "      <td>Excellent</td>\n",
              "      <td>591</td>\n",
              "    </tr>\n",
              "    <tr>\n",
              "      <th>2</th>\n",
              "      <td>6300002</td>\n",
              "      <td>Heat - Edsa Shangri-La</td>\n",
              "      <td>162</td>\n",
              "      <td>Mandaluyong City</td>\n",
              "      <td>Edsa Shangri-La, 1 Garden Way, Ortigas, Mandal...</td>\n",
              "      <td>Edsa Shangri-La, Ortigas, Mandaluyong City</td>\n",
              "      <td>Edsa Shangri-La, Ortigas, Mandaluyong City, Ma...</td>\n",
              "      <td>121.056831</td>\n",
              "      <td>14.581404</td>\n",
              "      <td>Seafood, Asian, Filipino, Indian</td>\n",
              "      <td>...</td>\n",
              "      <td>Botswana Pula(P)</td>\n",
              "      <td>Yes</td>\n",
              "      <td>No</td>\n",
              "      <td>No</td>\n",
              "      <td>No</td>\n",
              "      <td>4</td>\n",
              "      <td>4.4</td>\n",
              "      <td>Green</td>\n",
              "      <td>Very Good</td>\n",
              "      <td>270</td>\n",
              "    </tr>\n",
              "    <tr>\n",
              "      <th>3</th>\n",
              "      <td>6318506</td>\n",
              "      <td>Ooma</td>\n",
              "      <td>162</td>\n",
              "      <td>Mandaluyong City</td>\n",
              "      <td>Third Floor, Mega Fashion Hall, SM Megamall, O...</td>\n",
              "      <td>SM Megamall, Ortigas, Mandaluyong City</td>\n",
              "      <td>SM Megamall, Ortigas, Mandaluyong City, Mandal...</td>\n",
              "      <td>121.056475</td>\n",
              "      <td>14.585318</td>\n",
              "      <td>Japanese, Sushi</td>\n",
              "      <td>...</td>\n",
              "      <td>Botswana Pula(P)</td>\n",
              "      <td>No</td>\n",
              "      <td>No</td>\n",
              "      <td>No</td>\n",
              "      <td>No</td>\n",
              "      <td>4</td>\n",
              "      <td>4.9</td>\n",
              "      <td>Dark Green</td>\n",
              "      <td>Excellent</td>\n",
              "      <td>365</td>\n",
              "    </tr>\n",
              "    <tr>\n",
              "      <th>4</th>\n",
              "      <td>6314302</td>\n",
              "      <td>Sambo Kojin</td>\n",
              "      <td>162</td>\n",
              "      <td>Mandaluyong City</td>\n",
              "      <td>Third Floor, Mega Atrium, SM Megamall, Ortigas...</td>\n",
              "      <td>SM Megamall, Ortigas, Mandaluyong City</td>\n",
              "      <td>SM Megamall, Ortigas, Mandaluyong City, Mandal...</td>\n",
              "      <td>121.057508</td>\n",
              "      <td>14.584450</td>\n",
              "      <td>Japanese, Korean</td>\n",
              "      <td>...</td>\n",
              "      <td>Botswana Pula(P)</td>\n",
              "      <td>Yes</td>\n",
              "      <td>No</td>\n",
              "      <td>No</td>\n",
              "      <td>No</td>\n",
              "      <td>4</td>\n",
              "      <td>4.8</td>\n",
              "      <td>Dark Green</td>\n",
              "      <td>Excellent</td>\n",
              "      <td>229</td>\n",
              "    </tr>\n",
              "  </tbody>\n",
              "</table>\n",
              "<p>5 rows × 21 columns</p>\n",
              "</div>\n",
              "    <div class=\"colab-df-buttons\">\n",
              "\n",
              "  <div class=\"colab-df-container\">\n",
              "    <button class=\"colab-df-convert\" onclick=\"convertToInteractive('df-75c83804-7f79-446f-ba5d-e00900060823')\"\n",
              "            title=\"Convert this dataframe to an interactive table.\"\n",
              "            style=\"display:none;\">\n",
              "\n",
              "  <svg xmlns=\"http://www.w3.org/2000/svg\" height=\"24px\" viewBox=\"0 -960 960 960\">\n",
              "    <path d=\"M120-120v-720h720v720H120Zm60-500h600v-160H180v160Zm220 220h160v-160H400v160Zm0 220h160v-160H400v160ZM180-400h160v-160H180v160Zm440 0h160v-160H620v160ZM180-180h160v-160H180v160Zm440 0h160v-160H620v160Z\"/>\n",
              "  </svg>\n",
              "    </button>\n",
              "\n",
              "  <style>\n",
              "    .colab-df-container {\n",
              "      display:flex;\n",
              "      gap: 12px;\n",
              "    }\n",
              "\n",
              "    .colab-df-convert {\n",
              "      background-color: #E8F0FE;\n",
              "      border: none;\n",
              "      border-radius: 50%;\n",
              "      cursor: pointer;\n",
              "      display: none;\n",
              "      fill: #1967D2;\n",
              "      height: 32px;\n",
              "      padding: 0 0 0 0;\n",
              "      width: 32px;\n",
              "    }\n",
              "\n",
              "    .colab-df-convert:hover {\n",
              "      background-color: #E2EBFA;\n",
              "      box-shadow: 0px 1px 2px rgba(60, 64, 67, 0.3), 0px 1px 3px 1px rgba(60, 64, 67, 0.15);\n",
              "      fill: #174EA6;\n",
              "    }\n",
              "\n",
              "    .colab-df-buttons div {\n",
              "      margin-bottom: 4px;\n",
              "    }\n",
              "\n",
              "    [theme=dark] .colab-df-convert {\n",
              "      background-color: #3B4455;\n",
              "      fill: #D2E3FC;\n",
              "    }\n",
              "\n",
              "    [theme=dark] .colab-df-convert:hover {\n",
              "      background-color: #434B5C;\n",
              "      box-shadow: 0px 1px 3px 1px rgba(0, 0, 0, 0.15);\n",
              "      filter: drop-shadow(0px 1px 2px rgba(0, 0, 0, 0.3));\n",
              "      fill: #FFFFFF;\n",
              "    }\n",
              "  </style>\n",
              "\n",
              "    <script>\n",
              "      const buttonEl =\n",
              "        document.querySelector('#df-75c83804-7f79-446f-ba5d-e00900060823 button.colab-df-convert');\n",
              "      buttonEl.style.display =\n",
              "        google.colab.kernel.accessAllowed ? 'block' : 'none';\n",
              "\n",
              "      async function convertToInteractive(key) {\n",
              "        const element = document.querySelector('#df-75c83804-7f79-446f-ba5d-e00900060823');\n",
              "        const dataTable =\n",
              "          await google.colab.kernel.invokeFunction('convertToInteractive',\n",
              "                                                    [key], {});\n",
              "        if (!dataTable) return;\n",
              "\n",
              "        const docLinkHtml = 'Like what you see? Visit the ' +\n",
              "          '<a target=\"_blank\" href=https://colab.research.google.com/notebooks/data_table.ipynb>data table notebook</a>'\n",
              "          + ' to learn more about interactive tables.';\n",
              "        element.innerHTML = '';\n",
              "        dataTable['output_type'] = 'display_data';\n",
              "        await google.colab.output.renderOutput(dataTable, element);\n",
              "        const docLink = document.createElement('div');\n",
              "        docLink.innerHTML = docLinkHtml;\n",
              "        element.appendChild(docLink);\n",
              "      }\n",
              "    </script>\n",
              "  </div>\n",
              "\n",
              "\n",
              "    <div id=\"df-b9e26262-8a38-415d-94f0-835bdb07303c\">\n",
              "      <button class=\"colab-df-quickchart\" onclick=\"quickchart('df-b9e26262-8a38-415d-94f0-835bdb07303c')\"\n",
              "                title=\"Suggest charts\"\n",
              "                style=\"display:none;\">\n",
              "\n",
              "<svg xmlns=\"http://www.w3.org/2000/svg\" height=\"24px\"viewBox=\"0 0 24 24\"\n",
              "     width=\"24px\">\n",
              "    <g>\n",
              "        <path d=\"M19 3H5c-1.1 0-2 .9-2 2v14c0 1.1.9 2 2 2h14c1.1 0 2-.9 2-2V5c0-1.1-.9-2-2-2zM9 17H7v-7h2v7zm4 0h-2V7h2v10zm4 0h-2v-4h2v4z\"/>\n",
              "    </g>\n",
              "</svg>\n",
              "      </button>\n",
              "\n",
              "<style>\n",
              "  .colab-df-quickchart {\n",
              "      --bg-color: #E8F0FE;\n",
              "      --fill-color: #1967D2;\n",
              "      --hover-bg-color: #E2EBFA;\n",
              "      --hover-fill-color: #174EA6;\n",
              "      --disabled-fill-color: #AAA;\n",
              "      --disabled-bg-color: #DDD;\n",
              "  }\n",
              "\n",
              "  [theme=dark] .colab-df-quickchart {\n",
              "      --bg-color: #3B4455;\n",
              "      --fill-color: #D2E3FC;\n",
              "      --hover-bg-color: #434B5C;\n",
              "      --hover-fill-color: #FFFFFF;\n",
              "      --disabled-bg-color: #3B4455;\n",
              "      --disabled-fill-color: #666;\n",
              "  }\n",
              "\n",
              "  .colab-df-quickchart {\n",
              "    background-color: var(--bg-color);\n",
              "    border: none;\n",
              "    border-radius: 50%;\n",
              "    cursor: pointer;\n",
              "    display: none;\n",
              "    fill: var(--fill-color);\n",
              "    height: 32px;\n",
              "    padding: 0;\n",
              "    width: 32px;\n",
              "  }\n",
              "\n",
              "  .colab-df-quickchart:hover {\n",
              "    background-color: var(--hover-bg-color);\n",
              "    box-shadow: 0 1px 2px rgba(60, 64, 67, 0.3), 0 1px 3px 1px rgba(60, 64, 67, 0.15);\n",
              "    fill: var(--button-hover-fill-color);\n",
              "  }\n",
              "\n",
              "  .colab-df-quickchart-complete:disabled,\n",
              "  .colab-df-quickchart-complete:disabled:hover {\n",
              "    background-color: var(--disabled-bg-color);\n",
              "    fill: var(--disabled-fill-color);\n",
              "    box-shadow: none;\n",
              "  }\n",
              "\n",
              "  .colab-df-spinner {\n",
              "    border: 2px solid var(--fill-color);\n",
              "    border-color: transparent;\n",
              "    border-bottom-color: var(--fill-color);\n",
              "    animation:\n",
              "      spin 1s steps(1) infinite;\n",
              "  }\n",
              "\n",
              "  @keyframes spin {\n",
              "    0% {\n",
              "      border-color: transparent;\n",
              "      border-bottom-color: var(--fill-color);\n",
              "      border-left-color: var(--fill-color);\n",
              "    }\n",
              "    20% {\n",
              "      border-color: transparent;\n",
              "      border-left-color: var(--fill-color);\n",
              "      border-top-color: var(--fill-color);\n",
              "    }\n",
              "    30% {\n",
              "      border-color: transparent;\n",
              "      border-left-color: var(--fill-color);\n",
              "      border-top-color: var(--fill-color);\n",
              "      border-right-color: var(--fill-color);\n",
              "    }\n",
              "    40% {\n",
              "      border-color: transparent;\n",
              "      border-right-color: var(--fill-color);\n",
              "      border-top-color: var(--fill-color);\n",
              "    }\n",
              "    60% {\n",
              "      border-color: transparent;\n",
              "      border-right-color: var(--fill-color);\n",
              "    }\n",
              "    80% {\n",
              "      border-color: transparent;\n",
              "      border-right-color: var(--fill-color);\n",
              "      border-bottom-color: var(--fill-color);\n",
              "    }\n",
              "    90% {\n",
              "      border-color: transparent;\n",
              "      border-bottom-color: var(--fill-color);\n",
              "    }\n",
              "  }\n",
              "</style>\n",
              "\n",
              "      <script>\n",
              "        async function quickchart(key) {\n",
              "          const quickchartButtonEl =\n",
              "            document.querySelector('#' + key + ' button');\n",
              "          quickchartButtonEl.disabled = true;  // To prevent multiple clicks.\n",
              "          quickchartButtonEl.classList.add('colab-df-spinner');\n",
              "          try {\n",
              "            const charts = await google.colab.kernel.invokeFunction(\n",
              "                'suggestCharts', [key], {});\n",
              "          } catch (error) {\n",
              "            console.error('Error during call to suggestCharts:', error);\n",
              "          }\n",
              "          quickchartButtonEl.classList.remove('colab-df-spinner');\n",
              "          quickchartButtonEl.classList.add('colab-df-quickchart-complete');\n",
              "        }\n",
              "        (() => {\n",
              "          let quickchartButtonEl =\n",
              "            document.querySelector('#df-b9e26262-8a38-415d-94f0-835bdb07303c button');\n",
              "          quickchartButtonEl.style.display =\n",
              "            google.colab.kernel.accessAllowed ? 'block' : 'none';\n",
              "        })();\n",
              "      </script>\n",
              "    </div>\n",
              "\n",
              "    </div>\n",
              "  </div>\n"
            ],
            "application/vnd.google.colaboratory.intrinsic+json": {
              "type": "dataframe"
            }
          },
          "metadata": {}
        }
      ]
    },
    {
      "cell_type": "markdown",
      "source": [
        "---"
      ],
      "metadata": {
        "id": "03Cv2JWm-7Od"
      }
    },
    {
      "cell_type": "code",
      "source": [
        "# Missing values\n",
        "miss = rest_data.isna().sum()\n",
        "print(\"Missing Values: \", miss)"
      ],
      "metadata": {
        "colab": {
          "base_uri": "https://localhost:8080/"
        },
        "id": "40F6r96xjDZL",
        "outputId": "406ea91f-93f4-4955-e1bd-57c872f35e27"
      },
      "execution_count": 8,
      "outputs": [
        {
          "output_type": "stream",
          "name": "stdout",
          "text": [
            "Missing Values:  Restaurant ID           0\n",
            "Restaurant Name         0\n",
            "Country Code            0\n",
            "City                    0\n",
            "Address                 0\n",
            "Locality                0\n",
            "Locality Verbose        0\n",
            "Longitude               0\n",
            "Latitude                0\n",
            "Cuisines                9\n",
            "Average Cost for two    0\n",
            "Currency                0\n",
            "Has Table booking       0\n",
            "Has Online delivery     0\n",
            "Is delivering now       0\n",
            "Switch to order menu    0\n",
            "Price range             0\n",
            "Aggregate rating        0\n",
            "Rating color            0\n",
            "Rating text             0\n",
            "Votes                   0\n",
            "dtype: int64\n"
          ]
        }
      ]
    },
    {
      "cell_type": "markdown",
      "source": [
        "---"
      ],
      "metadata": {
        "id": "hW7ZozD3-8o1"
      }
    },
    {
      "cell_type": "code",
      "source": [
        "# Replacing missing cuisnes with Unknown\n",
        "rest_data['Cuisines'] = rest_data['Cuisines'].fillna('Unknown')"
      ],
      "metadata": {
        "id": "8YiqsOQA7X1v"
      },
      "execution_count": 21,
      "outputs": []
    },
    {
      "cell_type": "markdown",
      "source": [
        "---"
      ],
      "metadata": {
        "id": "xXYo0xLG-9aT"
      }
    },
    {
      "cell_type": "code",
      "source": [
        "# Duplicates\n",
        "dup_count = rest_data['Restaurant ID'].duplicated().sum()\n",
        "print(f\"Duplicate Restaurant IDs: {dup_count}\")"
      ],
      "metadata": {
        "colab": {
          "base_uri": "https://localhost:8080/"
        },
        "id": "zBn4qjy1jDV5",
        "outputId": "44671980-9391-4fe5-f027-647a03e3c8a0"
      },
      "execution_count": 22,
      "outputs": [
        {
          "output_type": "stream",
          "name": "stdout",
          "text": [
            "Duplicate Restaurant IDs: 0\n"
          ]
        }
      ]
    },
    {
      "cell_type": "markdown",
      "source": [
        "---"
      ],
      "metadata": {
        "id": "U24PG6fj--ba"
      }
    },
    {
      "cell_type": "code",
      "source": [
        "# Data types & non-null counts\n",
        "print(\"DataFrame info:\")\n",
        "rest_data.info()\n",
        "print(\"\\n\")"
      ],
      "metadata": {
        "colab": {
          "base_uri": "https://localhost:8080/"
        },
        "id": "3DPuek56jDSL",
        "outputId": "f4a1a421-691d-4fd5-f8a6-28dec00f5dbe"
      },
      "execution_count": 23,
      "outputs": [
        {
          "output_type": "stream",
          "name": "stdout",
          "text": [
            "DataFrame info:\n",
            "<class 'pandas.core.frame.DataFrame'>\n",
            "RangeIndex: 9551 entries, 0 to 9550\n",
            "Data columns (total 21 columns):\n",
            " #   Column                Non-Null Count  Dtype  \n",
            "---  ------                --------------  -----  \n",
            " 0   Restaurant ID         9551 non-null   int64  \n",
            " 1   Restaurant Name       9551 non-null   object \n",
            " 2   Country Code          9551 non-null   int64  \n",
            " 3   City                  9551 non-null   object \n",
            " 4   Address               9551 non-null   object \n",
            " 5   Locality              9551 non-null   object \n",
            " 6   Locality Verbose      9551 non-null   object \n",
            " 7   Longitude             9551 non-null   float64\n",
            " 8   Latitude              9551 non-null   float64\n",
            " 9   Cuisines              9551 non-null   object \n",
            " 10  Average Cost for two  9551 non-null   int64  \n",
            " 11  Currency              9551 non-null   object \n",
            " 12  Has Table booking     9551 non-null   object \n",
            " 13  Has Online delivery   9551 non-null   object \n",
            " 14  Is delivering now     9551 non-null   object \n",
            " 15  Switch to order menu  9551 non-null   object \n",
            " 16  Price range           9551 non-null   int64  \n",
            " 17  Aggregate rating      9551 non-null   float64\n",
            " 18  Rating color          9551 non-null   object \n",
            " 19  Rating text           9551 non-null   object \n",
            " 20  Votes                 9551 non-null   int64  \n",
            "dtypes: float64(3), int64(5), object(13)\n",
            "memory usage: 1.5+ MB\n",
            "\n",
            "\n"
          ]
        }
      ]
    },
    {
      "cell_type": "markdown",
      "source": [
        "---"
      ],
      "metadata": {
        "id": "8x2rOJad-_7x"
      }
    },
    {
      "cell_type": "code",
      "source": [
        "# Unique-value counts for object columns\n",
        "print(\"Unique values in object columns:\")\n",
        "for col in rest_data.select_dtypes(include=['object']).columns:\n",
        "    print(f\"  {col:25}: {rest_data[col].nunique():4} unique\")"
      ],
      "metadata": {
        "colab": {
          "base_uri": "https://localhost:8080/"
        },
        "id": "sralcn4OjmES",
        "outputId": "94a6d99e-74ae-49c3-cf9e-f506417f8fa1"
      },
      "execution_count": 24,
      "outputs": [
        {
          "output_type": "stream",
          "name": "stdout",
          "text": [
            "Unique values in object columns:\n",
            "  Restaurant Name          : 7446 unique\n",
            "  City                     :  141 unique\n",
            "  Address                  : 8918 unique\n",
            "  Locality                 : 1208 unique\n",
            "  Locality Verbose         : 1265 unique\n",
            "  Cuisines                 : 1826 unique\n",
            "  Currency                 :   12 unique\n",
            "  Has Table booking        :    2 unique\n",
            "  Has Online delivery      :    2 unique\n",
            "  Is delivering now        :    2 unique\n",
            "  Switch to order menu     :    1 unique\n",
            "  Rating color             :    6 unique\n",
            "  Rating text              :    6 unique\n"
          ]
        }
      ]
    },
    {
      "cell_type": "markdown",
      "source": [
        "---"
      ],
      "metadata": {
        "id": "klE1vhKA_BDY"
      }
    },
    {
      "cell_type": "code",
      "source": [
        "# Constant columns (no variance)\n",
        "constant_cols = [c for c in rest_data.columns if rest_data[c].nunique() <= 1]\n",
        "print(\"\\nConstant columns (drop if any):\", constant_cols)"
      ],
      "metadata": {
        "colab": {
          "base_uri": "https://localhost:8080/"
        },
        "id": "8A3ORUJzjoEI",
        "outputId": "da5a80fa-41cb-4509-c24d-e0d750dc501b"
      },
      "execution_count": 25,
      "outputs": [
        {
          "output_type": "stream",
          "name": "stdout",
          "text": [
            "\n",
            "Constant columns (drop if any): ['Switch to order menu']\n"
          ]
        }
      ]
    },
    {
      "cell_type": "markdown",
      "source": [
        "---"
      ],
      "metadata": {
        "id": "znjYEWCA_CUG"
      }
    },
    {
      "cell_type": "code",
      "source": [
        "# Rating sanity check\n",
        "print(\"\\nRating range:\", rest_data['Aggregate rating'].min(), \"to\", rest_data['Aggregate rating'].max())\n",
        "print(\"Counts of negative or zero ratings:\", (rest_data['Aggregate rating'] <= 0).sum())"
      ],
      "metadata": {
        "colab": {
          "base_uri": "https://localhost:8080/"
        },
        "id": "atymLLRWjp7v",
        "outputId": "cb90d5db-c073-4c37-95f0-3af34a555d3e"
      },
      "execution_count": 26,
      "outputs": [
        {
          "output_type": "stream",
          "name": "stdout",
          "text": [
            "\n",
            "Rating range: 0.0 to 4.9\n",
            "Counts of negative or zero ratings: 2148\n"
          ]
        }
      ]
    },
    {
      "cell_type": "markdown",
      "source": [
        "---"
      ],
      "metadata": {
        "id": "4EQWFPkR_DEC"
      }
    },
    {
      "cell_type": "code",
      "source": [
        "# Numeric summary & outlier alerts\n",
        "num_summary = rest_data[['Price range','Votes','Longitude','Latitude','Aggregate rating']].describe()\n",
        "display(num_summary)"
      ],
      "metadata": {
        "colab": {
          "base_uri": "https://localhost:8080/",
          "height": 300
        },
        "id": "mxfuZY9Kjp4T",
        "outputId": "ac9d97e5-7b94-4983-ad14-9fff69095538"
      },
      "execution_count": 27,
      "outputs": [
        {
          "output_type": "display_data",
          "data": {
            "text/plain": [
              "       Price range         Votes    Longitude     Latitude  Aggregate rating\n",
              "count  9551.000000   9551.000000  9551.000000  9551.000000       9551.000000\n",
              "mean      1.804837    156.909748    64.126574    25.854381          2.666370\n",
              "std       0.905609    430.169145    41.467058    11.007935          1.516378\n",
              "min       1.000000      0.000000  -157.948486   -41.330428          0.000000\n",
              "25%       1.000000      5.000000    77.081343    28.478713          2.500000\n",
              "50%       2.000000     31.000000    77.191964    28.570469          3.200000\n",
              "75%       2.000000    131.000000    77.282006    28.642758          3.700000\n",
              "max       4.000000  10934.000000   174.832089    55.976980          4.900000"
            ],
            "text/html": [
              "\n",
              "  <div id=\"df-490263d4-7817-4482-acf5-69ac7d3048b7\" class=\"colab-df-container\">\n",
              "    <div>\n",
              "<style scoped>\n",
              "    .dataframe tbody tr th:only-of-type {\n",
              "        vertical-align: middle;\n",
              "    }\n",
              "\n",
              "    .dataframe tbody tr th {\n",
              "        vertical-align: top;\n",
              "    }\n",
              "\n",
              "    .dataframe thead th {\n",
              "        text-align: right;\n",
              "    }\n",
              "</style>\n",
              "<table border=\"1\" class=\"dataframe\">\n",
              "  <thead>\n",
              "    <tr style=\"text-align: right;\">\n",
              "      <th></th>\n",
              "      <th>Price range</th>\n",
              "      <th>Votes</th>\n",
              "      <th>Longitude</th>\n",
              "      <th>Latitude</th>\n",
              "      <th>Aggregate rating</th>\n",
              "    </tr>\n",
              "  </thead>\n",
              "  <tbody>\n",
              "    <tr>\n",
              "      <th>count</th>\n",
              "      <td>9551.000000</td>\n",
              "      <td>9551.000000</td>\n",
              "      <td>9551.000000</td>\n",
              "      <td>9551.000000</td>\n",
              "      <td>9551.000000</td>\n",
              "    </tr>\n",
              "    <tr>\n",
              "      <th>mean</th>\n",
              "      <td>1.804837</td>\n",
              "      <td>156.909748</td>\n",
              "      <td>64.126574</td>\n",
              "      <td>25.854381</td>\n",
              "      <td>2.666370</td>\n",
              "    </tr>\n",
              "    <tr>\n",
              "      <th>std</th>\n",
              "      <td>0.905609</td>\n",
              "      <td>430.169145</td>\n",
              "      <td>41.467058</td>\n",
              "      <td>11.007935</td>\n",
              "      <td>1.516378</td>\n",
              "    </tr>\n",
              "    <tr>\n",
              "      <th>min</th>\n",
              "      <td>1.000000</td>\n",
              "      <td>0.000000</td>\n",
              "      <td>-157.948486</td>\n",
              "      <td>-41.330428</td>\n",
              "      <td>0.000000</td>\n",
              "    </tr>\n",
              "    <tr>\n",
              "      <th>25%</th>\n",
              "      <td>1.000000</td>\n",
              "      <td>5.000000</td>\n",
              "      <td>77.081343</td>\n",
              "      <td>28.478713</td>\n",
              "      <td>2.500000</td>\n",
              "    </tr>\n",
              "    <tr>\n",
              "      <th>50%</th>\n",
              "      <td>2.000000</td>\n",
              "      <td>31.000000</td>\n",
              "      <td>77.191964</td>\n",
              "      <td>28.570469</td>\n",
              "      <td>3.200000</td>\n",
              "    </tr>\n",
              "    <tr>\n",
              "      <th>75%</th>\n",
              "      <td>2.000000</td>\n",
              "      <td>131.000000</td>\n",
              "      <td>77.282006</td>\n",
              "      <td>28.642758</td>\n",
              "      <td>3.700000</td>\n",
              "    </tr>\n",
              "    <tr>\n",
              "      <th>max</th>\n",
              "      <td>4.000000</td>\n",
              "      <td>10934.000000</td>\n",
              "      <td>174.832089</td>\n",
              "      <td>55.976980</td>\n",
              "      <td>4.900000</td>\n",
              "    </tr>\n",
              "  </tbody>\n",
              "</table>\n",
              "</div>\n",
              "    <div class=\"colab-df-buttons\">\n",
              "\n",
              "  <div class=\"colab-df-container\">\n",
              "    <button class=\"colab-df-convert\" onclick=\"convertToInteractive('df-490263d4-7817-4482-acf5-69ac7d3048b7')\"\n",
              "            title=\"Convert this dataframe to an interactive table.\"\n",
              "            style=\"display:none;\">\n",
              "\n",
              "  <svg xmlns=\"http://www.w3.org/2000/svg\" height=\"24px\" viewBox=\"0 -960 960 960\">\n",
              "    <path d=\"M120-120v-720h720v720H120Zm60-500h600v-160H180v160Zm220 220h160v-160H400v160Zm0 220h160v-160H400v160ZM180-400h160v-160H180v160Zm440 0h160v-160H620v160ZM180-180h160v-160H180v160Zm440 0h160v-160H620v160Z\"/>\n",
              "  </svg>\n",
              "    </button>\n",
              "\n",
              "  <style>\n",
              "    .colab-df-container {\n",
              "      display:flex;\n",
              "      gap: 12px;\n",
              "    }\n",
              "\n",
              "    .colab-df-convert {\n",
              "      background-color: #E8F0FE;\n",
              "      border: none;\n",
              "      border-radius: 50%;\n",
              "      cursor: pointer;\n",
              "      display: none;\n",
              "      fill: #1967D2;\n",
              "      height: 32px;\n",
              "      padding: 0 0 0 0;\n",
              "      width: 32px;\n",
              "    }\n",
              "\n",
              "    .colab-df-convert:hover {\n",
              "      background-color: #E2EBFA;\n",
              "      box-shadow: 0px 1px 2px rgba(60, 64, 67, 0.3), 0px 1px 3px 1px rgba(60, 64, 67, 0.15);\n",
              "      fill: #174EA6;\n",
              "    }\n",
              "\n",
              "    .colab-df-buttons div {\n",
              "      margin-bottom: 4px;\n",
              "    }\n",
              "\n",
              "    [theme=dark] .colab-df-convert {\n",
              "      background-color: #3B4455;\n",
              "      fill: #D2E3FC;\n",
              "    }\n",
              "\n",
              "    [theme=dark] .colab-df-convert:hover {\n",
              "      background-color: #434B5C;\n",
              "      box-shadow: 0px 1px 3px 1px rgba(0, 0, 0, 0.15);\n",
              "      filter: drop-shadow(0px 1px 2px rgba(0, 0, 0, 0.3));\n",
              "      fill: #FFFFFF;\n",
              "    }\n",
              "  </style>\n",
              "\n",
              "    <script>\n",
              "      const buttonEl =\n",
              "        document.querySelector('#df-490263d4-7817-4482-acf5-69ac7d3048b7 button.colab-df-convert');\n",
              "      buttonEl.style.display =\n",
              "        google.colab.kernel.accessAllowed ? 'block' : 'none';\n",
              "\n",
              "      async function convertToInteractive(key) {\n",
              "        const element = document.querySelector('#df-490263d4-7817-4482-acf5-69ac7d3048b7');\n",
              "        const dataTable =\n",
              "          await google.colab.kernel.invokeFunction('convertToInteractive',\n",
              "                                                    [key], {});\n",
              "        if (!dataTable) return;\n",
              "\n",
              "        const docLinkHtml = 'Like what you see? Visit the ' +\n",
              "          '<a target=\"_blank\" href=https://colab.research.google.com/notebooks/data_table.ipynb>data table notebook</a>'\n",
              "          + ' to learn more about interactive tables.';\n",
              "        element.innerHTML = '';\n",
              "        dataTable['output_type'] = 'display_data';\n",
              "        await google.colab.output.renderOutput(dataTable, element);\n",
              "        const docLink = document.createElement('div');\n",
              "        docLink.innerHTML = docLinkHtml;\n",
              "        element.appendChild(docLink);\n",
              "      }\n",
              "    </script>\n",
              "  </div>\n",
              "\n",
              "\n",
              "    <div id=\"df-f7f52b51-472d-46f7-ad04-56670c9ceae2\">\n",
              "      <button class=\"colab-df-quickchart\" onclick=\"quickchart('df-f7f52b51-472d-46f7-ad04-56670c9ceae2')\"\n",
              "                title=\"Suggest charts\"\n",
              "                style=\"display:none;\">\n",
              "\n",
              "<svg xmlns=\"http://www.w3.org/2000/svg\" height=\"24px\"viewBox=\"0 0 24 24\"\n",
              "     width=\"24px\">\n",
              "    <g>\n",
              "        <path d=\"M19 3H5c-1.1 0-2 .9-2 2v14c0 1.1.9 2 2 2h14c1.1 0 2-.9 2-2V5c0-1.1-.9-2-2-2zM9 17H7v-7h2v7zm4 0h-2V7h2v10zm4 0h-2v-4h2v4z\"/>\n",
              "    </g>\n",
              "</svg>\n",
              "      </button>\n",
              "\n",
              "<style>\n",
              "  .colab-df-quickchart {\n",
              "      --bg-color: #E8F0FE;\n",
              "      --fill-color: #1967D2;\n",
              "      --hover-bg-color: #E2EBFA;\n",
              "      --hover-fill-color: #174EA6;\n",
              "      --disabled-fill-color: #AAA;\n",
              "      --disabled-bg-color: #DDD;\n",
              "  }\n",
              "\n",
              "  [theme=dark] .colab-df-quickchart {\n",
              "      --bg-color: #3B4455;\n",
              "      --fill-color: #D2E3FC;\n",
              "      --hover-bg-color: #434B5C;\n",
              "      --hover-fill-color: #FFFFFF;\n",
              "      --disabled-bg-color: #3B4455;\n",
              "      --disabled-fill-color: #666;\n",
              "  }\n",
              "\n",
              "  .colab-df-quickchart {\n",
              "    background-color: var(--bg-color);\n",
              "    border: none;\n",
              "    border-radius: 50%;\n",
              "    cursor: pointer;\n",
              "    display: none;\n",
              "    fill: var(--fill-color);\n",
              "    height: 32px;\n",
              "    padding: 0;\n",
              "    width: 32px;\n",
              "  }\n",
              "\n",
              "  .colab-df-quickchart:hover {\n",
              "    background-color: var(--hover-bg-color);\n",
              "    box-shadow: 0 1px 2px rgba(60, 64, 67, 0.3), 0 1px 3px 1px rgba(60, 64, 67, 0.15);\n",
              "    fill: var(--button-hover-fill-color);\n",
              "  }\n",
              "\n",
              "  .colab-df-quickchart-complete:disabled,\n",
              "  .colab-df-quickchart-complete:disabled:hover {\n",
              "    background-color: var(--disabled-bg-color);\n",
              "    fill: var(--disabled-fill-color);\n",
              "    box-shadow: none;\n",
              "  }\n",
              "\n",
              "  .colab-df-spinner {\n",
              "    border: 2px solid var(--fill-color);\n",
              "    border-color: transparent;\n",
              "    border-bottom-color: var(--fill-color);\n",
              "    animation:\n",
              "      spin 1s steps(1) infinite;\n",
              "  }\n",
              "\n",
              "  @keyframes spin {\n",
              "    0% {\n",
              "      border-color: transparent;\n",
              "      border-bottom-color: var(--fill-color);\n",
              "      border-left-color: var(--fill-color);\n",
              "    }\n",
              "    20% {\n",
              "      border-color: transparent;\n",
              "      border-left-color: var(--fill-color);\n",
              "      border-top-color: var(--fill-color);\n",
              "    }\n",
              "    30% {\n",
              "      border-color: transparent;\n",
              "      border-left-color: var(--fill-color);\n",
              "      border-top-color: var(--fill-color);\n",
              "      border-right-color: var(--fill-color);\n",
              "    }\n",
              "    40% {\n",
              "      border-color: transparent;\n",
              "      border-right-color: var(--fill-color);\n",
              "      border-top-color: var(--fill-color);\n",
              "    }\n",
              "    60% {\n",
              "      border-color: transparent;\n",
              "      border-right-color: var(--fill-color);\n",
              "    }\n",
              "    80% {\n",
              "      border-color: transparent;\n",
              "      border-right-color: var(--fill-color);\n",
              "      border-bottom-color: var(--fill-color);\n",
              "    }\n",
              "    90% {\n",
              "      border-color: transparent;\n",
              "      border-bottom-color: var(--fill-color);\n",
              "    }\n",
              "  }\n",
              "</style>\n",
              "\n",
              "      <script>\n",
              "        async function quickchart(key) {\n",
              "          const quickchartButtonEl =\n",
              "            document.querySelector('#' + key + ' button');\n",
              "          quickchartButtonEl.disabled = true;  // To prevent multiple clicks.\n",
              "          quickchartButtonEl.classList.add('colab-df-spinner');\n",
              "          try {\n",
              "            const charts = await google.colab.kernel.invokeFunction(\n",
              "                'suggestCharts', [key], {});\n",
              "          } catch (error) {\n",
              "            console.error('Error during call to suggestCharts:', error);\n",
              "          }\n",
              "          quickchartButtonEl.classList.remove('colab-df-spinner');\n",
              "          quickchartButtonEl.classList.add('colab-df-quickchart-complete');\n",
              "        }\n",
              "        (() => {\n",
              "          let quickchartButtonEl =\n",
              "            document.querySelector('#df-f7f52b51-472d-46f7-ad04-56670c9ceae2 button');\n",
              "          quickchartButtonEl.style.display =\n",
              "            google.colab.kernel.accessAllowed ? 'block' : 'none';\n",
              "        })();\n",
              "      </script>\n",
              "    </div>\n",
              "\n",
              "  <div id=\"id_7f12914a-8c0d-4f79-9fa0-20e163efb769\">\n",
              "    <style>\n",
              "      .colab-df-generate {\n",
              "        background-color: #E8F0FE;\n",
              "        border: none;\n",
              "        border-radius: 50%;\n",
              "        cursor: pointer;\n",
              "        display: none;\n",
              "        fill: #1967D2;\n",
              "        height: 32px;\n",
              "        padding: 0 0 0 0;\n",
              "        width: 32px;\n",
              "      }\n",
              "\n",
              "      .colab-df-generate:hover {\n",
              "        background-color: #E2EBFA;\n",
              "        box-shadow: 0px 1px 2px rgba(60, 64, 67, 0.3), 0px 1px 3px 1px rgba(60, 64, 67, 0.15);\n",
              "        fill: #174EA6;\n",
              "      }\n",
              "\n",
              "      [theme=dark] .colab-df-generate {\n",
              "        background-color: #3B4455;\n",
              "        fill: #D2E3FC;\n",
              "      }\n",
              "\n",
              "      [theme=dark] .colab-df-generate:hover {\n",
              "        background-color: #434B5C;\n",
              "        box-shadow: 0px 1px 3px 1px rgba(0, 0, 0, 0.15);\n",
              "        filter: drop-shadow(0px 1px 2px rgba(0, 0, 0, 0.3));\n",
              "        fill: #FFFFFF;\n",
              "      }\n",
              "    </style>\n",
              "    <button class=\"colab-df-generate\" onclick=\"generateWithVariable('num_summary')\"\n",
              "            title=\"Generate code using this dataframe.\"\n",
              "            style=\"display:none;\">\n",
              "\n",
              "  <svg xmlns=\"http://www.w3.org/2000/svg\" height=\"24px\"viewBox=\"0 0 24 24\"\n",
              "       width=\"24px\">\n",
              "    <path d=\"M7,19H8.4L18.45,9,17,7.55,7,17.6ZM5,21V16.75L18.45,3.32a2,2,0,0,1,2.83,0l1.4,1.43a1.91,1.91,0,0,1,.58,1.4,1.91,1.91,0,0,1-.58,1.4L9.25,21ZM18.45,9,17,7.55Zm-12,3A5.31,5.31,0,0,0,4.9,8.1,5.31,5.31,0,0,0,1,6.5,5.31,5.31,0,0,0,4.9,4.9,5.31,5.31,0,0,0,6.5,1,5.31,5.31,0,0,0,8.1,4.9,5.31,5.31,0,0,0,12,6.5,5.46,5.46,0,0,0,6.5,12Z\"/>\n",
              "  </svg>\n",
              "    </button>\n",
              "    <script>\n",
              "      (() => {\n",
              "      const buttonEl =\n",
              "        document.querySelector('#id_7f12914a-8c0d-4f79-9fa0-20e163efb769 button.colab-df-generate');\n",
              "      buttonEl.style.display =\n",
              "        google.colab.kernel.accessAllowed ? 'block' : 'none';\n",
              "\n",
              "      buttonEl.onclick = () => {\n",
              "        google.colab.notebook.generateWithVariable('num_summary');\n",
              "      }\n",
              "      })();\n",
              "    </script>\n",
              "  </div>\n",
              "\n",
              "    </div>\n",
              "  </div>\n"
            ],
            "application/vnd.google.colaboratory.intrinsic+json": {
              "type": "dataframe",
              "variable_name": "num_summary",
              "summary": "{\n  \"name\": \"num_summary\",\n  \"rows\": 8,\n  \"fields\": [\n    {\n      \"column\": \"Price range\",\n      \"properties\": {\n        \"dtype\": \"number\",\n        \"std\": 3376.1466071461127,\n        \"min\": 0.9056088473975366,\n        \"max\": 9551.0,\n        \"num_unique_values\": 6,\n        \"samples\": [\n          9551.0,\n          1.804837189823055,\n          4.0\n        ],\n        \"semantic_type\": \"\",\n        \"description\": \"\"\n      }\n    },\n    {\n      \"column\": \"Votes\",\n      \"properties\": {\n        \"dtype\": \"number\",\n        \"std\": 4699.7638410944965,\n        \"min\": 0.0,\n        \"max\": 10934.0,\n        \"num_unique_values\": 8,\n        \"samples\": [\n          156.909747670401,\n          31.0,\n          9551.0\n        ],\n        \"semantic_type\": \"\",\n        \"description\": \"\"\n      }\n    },\n    {\n      \"column\": \"Longitude\",\n      \"properties\": {\n        \"dtype\": \"number\",\n        \"std\": 3360.2106786503405,\n        \"min\": -157.948486,\n        \"max\": 9551.0,\n        \"num_unique_values\": 8,\n        \"samples\": [\n          64.12657446168706,\n          77.1919642,\n          9551.0\n        ],\n        \"semantic_type\": \"\",\n        \"description\": \"\"\n      }\n    },\n    {\n      \"column\": \"Latitude\",\n      \"properties\": {\n        \"dtype\": \"number\",\n        \"std\": 3369.972988568076,\n        \"min\": -41.330428,\n        \"max\": 9551.0,\n        \"num_unique_values\": 8,\n        \"samples\": [\n          25.854380700074756,\n          28.57046888,\n          9551.0\n        ],\n        \"semantic_type\": \"\",\n        \"description\": \"\"\n      }\n    },\n    {\n      \"column\": \"Aggregate rating\",\n      \"properties\": {\n        \"dtype\": \"number\",\n        \"std\": 3375.855226922187,\n        \"min\": 0.0,\n        \"max\": 9551.0,\n        \"num_unique_values\": 8,\n        \"samples\": [\n          2.66637001361114,\n          3.2,\n          9551.0\n        ],\n        \"semantic_type\": \"\",\n        \"description\": \"\"\n      }\n    }\n  ]\n}"
            }
          },
          "metadata": {}
        }
      ]
    },
    {
      "cell_type": "markdown",
      "source": [
        "---"
      ],
      "metadata": {
        "id": "Ym450i2W_EHa"
      }
    },
    {
      "cell_type": "code",
      "source": [
        "# Negative / impossible values\n",
        "print(\"Negative Price range:\", (rest_data['Price range'] < 0).sum())\n",
        "print(\"Negative Votes      :\", (rest_data['Votes'] < 0).sum())"
      ],
      "metadata": {
        "colab": {
          "base_uri": "https://localhost:8080/"
        },
        "id": "PSCUgbXMjtec",
        "outputId": "a1ec6b6b-484a-48b1-a8b9-d8f1f8d02062"
      },
      "execution_count": 28,
      "outputs": [
        {
          "output_type": "stream",
          "name": "stdout",
          "text": [
            "Negative Price range: 0\n",
            "Negative Votes      : 0\n"
          ]
        }
      ]
    },
    {
      "cell_type": "markdown",
      "source": [
        "---\n",
        "\n",
        "---\n",
        "\n"
      ],
      "metadata": {
        "id": "uHrlnKvcoHzl"
      }
    },
    {
      "cell_type": "markdown",
      "source": [
        "## 2. Exploratory Data Analysis\n"
      ],
      "metadata": {
        "id": "Qyrkib17j4oQ"
      }
    },
    {
      "cell_type": "markdown",
      "source": [
        "---"
      ],
      "metadata": {
        "id": "SHQjf40GlLDz"
      }
    },
    {
      "cell_type": "code",
      "source": [
        "import matplotlib.pyplot as plt\n",
        "import seaborn as sns\n",
        "\n",
        "# Distribution of ratings\n",
        "plt.figure(figsize=(6,4))\n",
        "sns.histplot(rest_data['Aggregate rating'], bins=20, kde=True)\n",
        "plt.title('Aggregate Rating Distribution')\n",
        "plt.show()"
      ],
      "metadata": {
        "colab": {
          "base_uri": "https://localhost:8080/",
          "height": 410
        },
        "id": "crvUrowrIdDN",
        "outputId": "b4fad059-7e14-409e-b71e-fdd5623ff197"
      },
      "execution_count": 29,
      "outputs": [
        {
          "output_type": "display_data",
          "data": {
            "text/plain": [
              "<Figure size 600x400 with 1 Axes>"
            ],
            "image/png": "[encoded data removed]"
          },
          "metadata": {}
        }
      ]
    },
    {
      "cell_type": "markdown",
      "source": [
        "---"
      ],
      "metadata": {
        "id": "PWv7ZKM_751c"
      }
    },
    {
      "cell_type": "code",
      "source": [
        "# Top 10 Cuisines\n",
        "cuisines = rest_data['Cuisines'].dropna().str.split(', ').explode()\n",
        "cuisine_df = pd.DataFrame({'Cuisine': cuisines})\n",
        "top_cuisines = cuisine_df['Cuisine'].value_counts().head(10).index\n",
        "\n",
        "plt.figure(figsize=(8,4))\n",
        "sns.countplot(data=cuisine_df[cuisine_df['Cuisine'].isin(top_cuisines)],\n",
        "              y='Cuisine', order=top_cuisines, palette='viridis')\n",
        "plt.title('Top 10 Cuisines')\n",
        "plt.tight_layout()\n",
        "plt.show()"
      ],
      "metadata": {
        "colab": {
          "base_uri": "https://localhost:8080/",
          "height": 494
        },
        "id": "HVvV2MKDJwd8",
        "outputId": "5316afcf-c9d1-42f8-be63-2607a4887afd"
      },
      "execution_count": 41,
      "outputs": [
        {
          "output_type": "stream",
          "name": "stderr",
          "text": [
            "<ipython-input-41-f3a5b1980702>:7: FutureWarning: \n",
            "\n",
            "Passing `palette` without assigning `hue` is deprecated and will be removed in v0.14.0. Assign the `y` variable to `hue` and set `legend=False` for the same effect.\n",
            "\n",
            "  sns.countplot(data=cuisine_df[cuisine_df['Cuisine'].isin(top_cuisines)],\n"
          ]
        },
        {
          "output_type": "display_data",
          "data": {
            "text/plain": [
              "<Figure size 800x400 with 1 Axes>"
            ],
            "image/png": "[encoded data removed]"
          },
          "metadata": {}
        }
      ]
    },
    {
      "cell_type": "markdown",
      "source": [
        "---"
      ],
      "metadata": {
        "id": "IWR33N9n74rZ"
      }
    },
    {
      "cell_type": "code",
      "source": [
        "# Price range distribution\n",
        "plt.figure(figsize=(6,4))\n",
        "sns.countplot(x=rest_data['Price range'].astype(str))\n",
        "plt.title('Restaurants by Price Range')\n",
        "plt.show()"
      ],
      "metadata": {
        "colab": {
          "base_uri": "https://localhost:8080/",
          "height": 410
        },
        "id": "yD2-606mlXGG",
        "outputId": "2ef23bd1-9b12-4998-fa77-aadd541e793c"
      },
      "execution_count": 31,
      "outputs": [
        {
          "output_type": "display_data",
          "data": {
            "text/plain": [
              "<Figure size 600x400 with 1 Axes>"
            ],
            "image/png": "[encoded data removed]"
          },
          "metadata": {}
        }
      ]
    },
    {
      "cell_type": "markdown",
      "source": [
        "---\n",
        "---"
      ],
      "metadata": {
        "id": "mCvhSShplZDQ"
      }
    },
    {
      "cell_type": "markdown",
      "source": [
        "## 3. Preprocessing & Feature Engineering\n",
        "- **Numeric features**: Price range, Votes, Aggregate rating  \n",
        "- **One-hot**: Price range  \n",
        "- **Text**: Cuisines → TF‑IDF  \n"
      ],
      "metadata": {
        "id": "GXhI2xcxnq3y"
      }
    },
    {
      "cell_type": "code",
      "source": [
        "from sklearn.pipeline import Pipeline\n",
        "from sklearn.compose import ColumnTransformer\n",
        "from sklearn.impute import SimpleImputer\n",
        "from sklearn.preprocessing import StandardScaler, OneHotEncoder\n",
        "from sklearn.feature_extraction.text import TfidfVectorizer"
      ],
      "metadata": {
        "id": "kbRbXL2on1P2"
      },
      "execution_count": 42,
      "outputs": []
    },
    {
      "cell_type": "markdown",
      "source": [
        "---"
      ],
      "metadata": {
        "id": "l0653xkl72z5"
      }
    },
    {
      "cell_type": "code",
      "source": [
        "# Define features\n",
        "numeric_feats = ['Votes', 'Aggregate rating']\n",
        "categorical_feats = ['Price range', 'City']\n",
        "text_feat = 'Cuisines'"
      ],
      "metadata": {
        "id": "rbBCE-aOn1Ki"
      },
      "execution_count": 43,
      "outputs": []
    },
    {
      "cell_type": "markdown",
      "source": [
        "---"
      ],
      "metadata": {
        "id": "O3HNIUwI_8kE"
      }
    },
    {
      "cell_type": "code",
      "source": [
        "# Pipelines\n",
        "numeric_pipe = Pipeline([\n",
        "    ('impute', SimpleImputer(strategy='mean')),\n",
        "    ('scale', StandardScaler())\n",
        "])\n",
        "\n",
        "category_pipe = Pipeline([\n",
        "    ('onehot', OneHotEncoder(handle_unknown='ignore', sparse_output=False))\n",
        "])"
      ],
      "metadata": {
        "id": "MiAUqoCc_pGY"
      },
      "execution_count": 45,
      "outputs": []
    },
    {
      "cell_type": "markdown",
      "source": [
        "---"
      ],
      "metadata": {
        "id": "-A0QVRI6_9dI"
      }
    },
    {
      "cell_type": "code",
      "source": [
        "# Column transformer\n",
        "preprocessor = ColumnTransformer([\n",
        "    ('num', numeric_pipe, numeric_feats),\n",
        "    ('cat', category_pipe, categorical_feats),\n",
        "    ('txt', TfidfVectorizer(stop_words='english'), text_feat)\n",
        "])"
      ],
      "metadata": {
        "id": "3OzGDYS6_pCN"
      },
      "execution_count": 46,
      "outputs": []
    },
    {
      "cell_type": "markdown",
      "source": [
        "---"
      ],
      "metadata": {
        "id": "D8x0mdcS_-YO"
      }
    },
    {
      "cell_type": "code",
      "source": [
        "# Fit-transform features\n",
        "X_feat = preprocessor.fit_transform(rest_data)"
      ],
      "metadata": {
        "id": "ytKmN8Q4_o-B"
      },
      "execution_count": 48,
      "outputs": []
    },
    {
      "cell_type": "markdown",
      "source": [
        "---\n",
        "---"
      ],
      "metadata": {
        "id": "M_sw9_ykHwjk"
      }
    },
    {
      "cell_type": "markdown",
      "source": [
        "### 4. Visualize Feature Importance by Variance (Proxy for Influence)"
      ],
      "metadata": {
        "id": "TZ341FihHzNP"
      }
    },
    {
      "cell_type": "markdown",
      "source": [
        "---"
      ],
      "metadata": {
        "id": "o2lKuJ6OIaYi"
      }
    },
    {
      "cell_type": "code",
      "source": [
        "import numpy as np\n",
        "\n",
        "feature_names = preprocessor.get_feature_names_out()\n",
        "\n",
        "# Compute feature variances (standard deviation squared)\n",
        "feature_variances = np.var(X_feat.toarray() if hasattr(X_feat, \"toarray\") else X_feat, axis=0)\n",
        "\n",
        "# Create a DataFrame for plotting\n",
        "importance_df = pd.DataFrame({\n",
        "    'Feature': feature_names,\n",
        "    'Variance': feature_variances\n",
        "}).sort_values(by='Variance', ascending=False).head(15)\n",
        "\n",
        "# Plot the top 15 features by variance\n",
        "plt.figure(figsize=(10,6))\n",
        "sns.barplot(data=importance_df, x='Variance', y='Feature', palette='crest')\n",
        "plt.title('Top 15 Most Influential Features (by Variance)')\n",
        "plt.tight_layout()\n",
        "plt.show()"
      ],
      "metadata": {
        "colab": {
          "base_uri": "https://localhost:8080/",
          "height": 694
        },
        "id": "bXtCMewhH0FY",
        "outputId": "119470dc-6a14-4153-c748-40318957bd4d"
      },
      "execution_count": 71,
      "outputs": [
        {
          "output_type": "stream",
          "name": "stderr",
          "text": [
            "<ipython-input-71-7fde13fa74e0>:16: FutureWarning: \n",
            "\n",
            "Passing `palette` without assigning `hue` is deprecated and will be removed in v0.14.0. Assign the `y` variable to `hue` and set `legend=False` for the same effect.\n",
            "\n",
            "  sns.barplot(data=importance_df, x='Variance', y='Feature', palette='crest')\n"
          ]
        },
        {
          "output_type": "display_data",
          "data": {
            "text/plain": [
              "<Figure size 1000x600 with 1 Axes>"
            ],
            "image/png": "[encoded data removed]"
          },
          "metadata": {}
        }
      ]
    },
    {
      "cell_type": "markdown",
      "source": [
        "---\n",
        "---"
      ],
      "metadata": {
        "id": "iVMSlEgI7m4v"
      }
    },
    {
      "cell_type": "markdown",
      "source": [
        "## 5. Similarity Computation\n",
        "Compute cosine similarity between restaurant feature vectors.\n"
      ],
      "metadata": {
        "id": "ydUlYwuN7pXx"
      }
    },
    {
      "cell_type": "markdown",
      "source": [
        "---"
      ],
      "metadata": {
        "id": "oidab56d7812"
      }
    },
    {
      "cell_type": "code",
      "source": [
        "from sklearn.metrics.pairwise import cosine_similarity, euclidean_distances, manhattan_distances\n",
        "import numpy as np"
      ],
      "metadata": {
        "id": "1TEjxLptn1HA"
      },
      "execution_count": 49,
      "outputs": []
    },
    {
      "cell_type": "markdown",
      "source": [
        "---"
      ],
      "metadata": {
        "id": "qBEdAQW6AMDN"
      }
    },
    {
      "cell_type": "code",
      "source": [
        "# Compute all similarity matrices\n",
        "cos_sim = cosine_similarity(X_feat)\n",
        "euc_sim = 1 / (1 + euclidean_distances(X_feat))  # convert distance to similarity\n",
        "man_sim = 1 / (1 + manhattan_distances(X_feat))"
      ],
      "metadata": {
        "id": "UnooYAn1AGKf"
      },
      "execution_count": 50,
      "outputs": []
    },
    {
      "cell_type": "markdown",
      "source": [
        "---\n",
        "---"
      ],
      "metadata": {
        "id": "vODn93sU7y0U"
      }
    },
    {
      "cell_type": "markdown",
      "source": [
        "## 6. Evaluate Similarity Methods\n"
      ],
      "metadata": {
        "id": "xbFoMDds7yeH"
      }
    },
    {
      "cell_type": "markdown",
      "source": [
        "---"
      ],
      "metadata": {
        "id": "Al2OEqFf7-pN"
      }
    },
    {
      "cell_type": "code",
      "source": [
        "def evaluate_similarity(sim_matrix):\n",
        "    sample_rest_data = rest_data.sample(10, random_state=42)\n",
        "    successes = 0\n",
        "    for idx, row in sample_rest_data.iterrows():\n",
        "        query_rest_data = pd.DataFrame({\n",
        "            'Cuisines': [row['Cuisines']],\n",
        "            'City': [row['City']],\n",
        "            'Price range': [row['Price range']],\n",
        "            'Votes': [rest_data['Votes'].mean()],\n",
        "            'Aggregate rating': [rest_data['Aggregate rating'].mean()]\n",
        "        })\n",
        "        query_feat = preprocessor.transform(query_rest_data)\n",
        "        sims = similarity_fn(query_feat, X_feat, sim_matrix)\n",
        "        top_index = sims.argsort()[::-1][0]\n",
        "        if row['Cuisines'].split(',')[0] in rest_data.iloc[top_index]['Cuisines']:\n",
        "            successes += 1\n",
        "    return successes / len(sample_rest_data)\n",
        "\n",
        "def similarity_fn(query_feat, matrix, sim_matrix=None):\n",
        "    if sim_matrix is not None:\n",
        "        return cosine_similarity(query_feat, matrix)[0]\n",
        "    return query_feat @ matrix.T  # fallback"
      ],
      "metadata": {
        "id": "ORDAKcUc7mPB"
      },
      "execution_count": 51,
      "outputs": []
    },
    {
      "cell_type": "markdown",
      "source": [
        "---"
      ],
      "metadata": {
        "id": "gGLDTYIOBBIt"
      }
    },
    {
      "cell_type": "code",
      "source": [
        "# Evaluate all three methods\n",
        "results = {\n",
        "    'Cosine Similarity': evaluate_similarity(cos_sim),\n",
        "    'Euclidean Similarity': evaluate_similarity(euc_sim),\n",
        "    'Manhattan Similarity': evaluate_similarity(man_sim)\n",
        "}"
      ],
      "metadata": {
        "id": "QQFIDlRgAy43"
      },
      "execution_count": 52,
      "outputs": []
    },
    {
      "cell_type": "markdown",
      "source": [
        "---"
      ],
      "metadata": {
        "id": "dt7sD64AA_R9"
      }
    },
    {
      "cell_type": "code",
      "source": [
        "# Display comparison\n",
        "plt.figure(figsize=(6,4))\n",
        "sns.barplot(x=list(results.keys()), y=list(results.values()), palette='magma')\n",
        "plt.title('Similarity Method Accuracy Comparison')\n",
        "plt.ylabel('Accuracy')\n",
        "plt.xticks(rotation=20)\n",
        "plt.tight_layout()\n",
        "plt.show()"
      ],
      "metadata": {
        "colab": {
          "base_uri": "https://localhost:8080/",
          "height": 494
        },
        "id": "3f0A4V3YAyjE",
        "outputId": "41709c5f-5014-4ea9-a45f-a7c53ca6c9cc"
      },
      "execution_count": 53,
      "outputs": [
        {
          "output_type": "stream",
          "name": "stderr",
          "text": [
            "<ipython-input-53-cdd50d448a23>:3: FutureWarning: \n",
            "\n",
            "Passing `palette` without assigning `hue` is deprecated and will be removed in v0.14.0. Assign the `x` variable to `hue` and set `legend=False` for the same effect.\n",
            "\n",
            "  sns.barplot(x=list(results.keys()), y=list(results.values()), palette='magma')\n"
          ]
        },
        {
          "output_type": "display_data",
          "data": {
            "text/plain": [
              "<Figure size 600x400 with 1 Axes>"
            ],
            "image/png": "[encoded data removed]"
          },
          "metadata": {}
        }
      ]
    },
    {
      "cell_type": "markdown",
      "source": [
        "---"
      ],
      "metadata": {
        "id": "wtT_RhUVA9ad"
      }
    },
    {
      "cell_type": "code",
      "source": [
        "# Choose the best similarity matrix\n",
        "best_method = max(results, key=results.get)\n",
        "print(\"Best similarity method:\", best_method)\n",
        "\n",
        "if best_method == 'Cosine Similarity':\n",
        "    final_sim_matrix = cos_sim\n",
        "elif best_method == 'Euclidean Similarity':\n",
        "    final_sim_matrix = euc_sim\n",
        "else:\n",
        "    final_sim_matrix = man_sim"
      ],
      "metadata": {
        "colab": {
          "base_uri": "https://localhost:8080/"
        },
        "id": "BTwujgAzAye1",
        "outputId": "bc8470bf-6067-46a5-9150-719a8e17ae91"
      },
      "execution_count": 54,
      "outputs": [
        {
          "output_type": "stream",
          "name": "stdout",
          "text": [
            "Best similarity method: Cosine Similarity\n"
          ]
        }
      ]
    },
    {
      "cell_type": "markdown",
      "source": [
        "---\n",
        "---"
      ],
      "metadata": {
        "id": "1Vprw63u8KlM"
      }
    },
    {
      "cell_type": "markdown",
      "source": [
        "## 7. Recommendation Function using Best Similarity\n"
      ],
      "metadata": {
        "id": "aR8amBhB8KNh"
      }
    },
    {
      "cell_type": "markdown",
      "source": [
        "---"
      ],
      "metadata": {
        "id": "NYZgbSSs8OXI"
      }
    },
    {
      "cell_type": "code",
      "source": [
        "def get_top_rated_restaurants(cuisine_preference=None, city=None, min_rating=0,\n",
        "                             price_range=None, online_delivery=None,\n",
        "                             table_booking=None, rest_data=rest_data, top_n=10):\n",
        "    rec_rest_data = rest_data.copy()\n",
        "\n",
        "    if cuisine_preference:\n",
        "        rec_rest_data = rec_rest_data[rec_rest_data['Cuisines'].str.contains(cuisine_preference, case=False, na=False)]\n",
        "    if city:\n",
        "        rec_rest_data = rec_rest_data[rec_rest_data['City'] == city]\n",
        "    if min_rating > 0:\n",
        "        rec_rest_data = rec_rest_data[rec_rest_data['Aggregate rating'] >= min_rating]\n",
        "    if price_range is not None:\n",
        "        if isinstance(price_range, list):\n",
        "            rec_rest_data = rec_rest_data[rec_rest_data['Price range'].isin(price_range)]\n",
        "        else:\n",
        "            rec_rest_data = rec_rest_data[rec_rest_data['Price range'] == price_range]\n",
        "    if online_delivery is not None:\n",
        "        rec_rest_data = rec_rest_data[rec_rest_data['Has Online delivery'] == online_delivery]\n",
        "    if table_booking is not None:\n",
        "        rec_rest_data = rec_rest_data[rec_rest_data['Has Table booking'] == table_booking]\n",
        "\n",
        "    # Use similarity model to boost scores\n",
        "    query_vector = preprocessor.transform(pd.DataFrame({\n",
        "        'Cuisines': [cuisine_preference or rest_data['Cuisines'].mode()[0]],\n",
        "        'City': [city or rest_data['City'].mode()[0]],\n",
        "        'Price range': [price_range or rest_data['Price range'].mode()[0]],\n",
        "        'Votes': [rest_data['Votes'].mean()],\n",
        "        'Aggregate rating': [rest_data['Aggregate rating'].mean()]\n",
        "    }))\n",
        "\n",
        "    if best_method == 'Cosine Similarity':\n",
        "        all_similarities = cosine_similarity(query_vector, X_feat)[0]\n",
        "    elif best_method == 'Euclidean Similarity':\n",
        "        all_similarities = 1 / (1 + euclidean_distances(query_vector, X_feat)[0])\n",
        "    else:\n",
        "        all_similarities = 1 / (1 + manhattan_distances(query_vector, X_feat)[0])\n",
        "\n",
        "    # Attach similarities to full DataFrame first\n",
        "    full_with_sim = rest_data.copy()\n",
        "    full_with_sim['Similarity'] = all_similarities\n",
        "\n",
        "    # Apply filtering on full DataFrame with similarity attached\n",
        "    if cuisine_preference:\n",
        "        full_with_sim = full_with_sim[full_with_sim['Cuisines'].str.contains(cuisine_preference, case=False, na=False)]\n",
        "    if city:\n",
        "        full_with_sim = full_with_sim[full_with_sim['City'] == city]\n",
        "    if min_rating > 0:\n",
        "        full_with_sim = full_with_sim[full_with_sim['Aggregate rating'] >= min_rating]\n",
        "    if price_range is not None:\n",
        "        if isinstance(price_range, list):\n",
        "            full_with_sim = full_with_sim[full_with_sim['Price range'].isin(price_range)]\n",
        "        else:\n",
        "            full_with_sim = full_with_sim[full_with_sim['Price range'] == price_range]\n",
        "    if online_delivery is not None:\n",
        "        full_with_sim = full_with_sim[full_with_sim['Has Online delivery'] == online_delivery]\n",
        "    if table_booking is not None:\n",
        "        full_with_sim = full_with_sim[full_with_sim['Has Table booking'] == table_booking]\n",
        "\n",
        "    # Final sort and return\n",
        "    full_with_sim = full_with_sim.sort_values(by=['Similarity', 'Aggregate rating', 'Votes'], ascending=[False, False, False])\n",
        "    return full_with_sim.head(top_n)[['Restaurant Name', 'Cuisines', 'Aggregate rating', 'Votes',\n",
        "                                      'Price range', 'City', 'Average Cost for two',\n",
        "                                      'Has Online delivery', 'Has Table booking']]\n"
      ],
      "metadata": {
        "id": "rPEsrCnqn1D4"
      },
      "execution_count": 68,
      "outputs": []
    },
    {
      "cell_type": "markdown",
      "source": [
        "---\n",
        "---"
      ],
      "metadata": {
        "id": "f-r7PUW68y_D"
      }
    },
    {
      "cell_type": "markdown",
      "source": [
        "## 8. User Interface\n",
        "\n"
      ],
      "metadata": {
        "id": "Pgw17JYACPuv"
      }
    },
    {
      "cell_type": "code",
      "source": [
        "def interactive_recommender():\n",
        "    print(\"\\n🎯 Restaurant Recommender (Rating + Similarity Enhanced) 🎯\")\n",
        "    try:\n",
        "        cuisine = input(\"Enter preferred cuisine (e.g., Italian): \")\n",
        "        city = input(\"Enter city: \")\n",
        "        price_input = input(\"Enter price range (1-4): \")\n",
        "        price = int(price_input) if price_input.strip() else None\n",
        "        min_rating = float(input(\"Minimum rating (0-5): \") or 0)\n",
        "        online_delivery = input(\"Require online delivery? (yes/no): \").strip().lower()\n",
        "        table_booking = input(\"Require table booking? (yes/no): \").strip().lower()\n",
        "\n",
        "        online_delivery = True if online_delivery == 'yes' else False if online_delivery == 'no' else None\n",
        "        table_booking = True if table_booking == 'yes' else False if table_booking == 'no' else None\n",
        "\n",
        "        top_n = int(input(\"How many recommendations? \"))\n",
        "\n",
        "        recs = get_top_rated_restaurants(\n",
        "            cuisine_preference=cuisine or None,\n",
        "            city=city or None,\n",
        "            min_rating=min_rating,\n",
        "            price_range=price,\n",
        "            online_delivery=online_delivery,\n",
        "            table_booking=table_booking,\n",
        "            top_n=top_n\n",
        "        )\n",
        "\n",
        "        if recs.empty:\n",
        "            print(\"No recommendations found.\")\n",
        "        else:\n",
        "            display(recs.reset_index(drop=True))\n",
        "    except Exception as e:\n",
        "        print(\"Error:\", e)\n"
      ],
      "metadata": {
        "id": "ZB-P5jT9Bn5G"
      },
      "execution_count": 69,
      "outputs": []
    },
    {
      "cell_type": "code",
      "source": [
        "interactive_recommender()\n"
      ],
      "metadata": {
        "colab": {
          "base_uri": "https://localhost:8080/",
          "height": 362
        },
        "id": "hURqMoxQBnj_",
        "outputId": "716169fd-1e91-4a40-b95f-8f388150a262"
      },
      "execution_count": 70,
      "outputs": [
        {
          "name": "stdout",
          "output_type": "stream",
          "text": [
            "\n",
            "🎯 Restaurant Recommender (Rating + Similarity Enhanced) 🎯\n",
            "Enter preferred cuisine (e.g., Italian): Italian\n",
            "Enter city: Jaipur\n",
            "Enter price range (1-4): \n",
            "Minimum rating (0-5): \n",
            "Require online delivery? (yes/no): \n",
            "Require table booking? (yes/no): \n",
            "How many recommendations? 5\n"
          ]
        },
        {
          "output_type": "display_data",
          "data": {
            "text/plain": [
              "                 Restaurant Name  \\\n",
              "0                      Sky Beach   \n",
              "1                      Nibs Cafe   \n",
              "2                       Mutual's   \n",
              "3                            WTF   \n",
              "4  Zolocrust - Hotel Clarks Amer   \n",
              "\n",
              "                                            Cuisines  Aggregate rating  Votes  \\\n",
              "0  North Indian, Continental, Chinese, Mexican, I...               2.6     46   \n",
              "1                         Cafe, Italian, Continental               4.4    389   \n",
              "2    Cafe, Mexican, Italian, North Indian, Fast Food               4.2    198   \n",
              "3  Continental, Italian, North Indian, Lebanese, ...               4.0    212   \n",
              "4                       Italian, Bakery, Continental               4.9    322   \n",
              "\n",
              "   Price range    City  Average Cost for two Has Online delivery  \\\n",
              "0            3  Jaipur                  1000                  No   \n",
              "1            2  Jaipur                   750                 Yes   \n",
              "2            2  Jaipur                   650                 Yes   \n",
              "3            3  Jaipur                  1000                  No   \n",
              "4            4  Jaipur                  2000                 Yes   \n",
              "\n",
              "  Has Table booking  \n",
              "0                No  \n",
              "1                No  \n",
              "2                No  \n",
              "3                No  \n",
              "4                No  "
            ],
            "text/html": [
              "\n",
              "  <div id=\"df-a89b4e74-4266-4eb0-8d7b-8a030024fadb\" class=\"colab-df-container\">\n",
              "    <div>\n",
              "<style scoped>\n",
              "    .dataframe tbody tr th:only-of-type {\n",
              "        vertical-align: middle;\n",
              "    }\n",
              "\n",
              "    .dataframe tbody tr th {\n",
              "        vertical-align: top;\n",
              "    }\n",
              "\n",
              "    .dataframe thead th {\n",
              "        text-align: right;\n",
              "    }\n",
              "</style>\n",
              "<table border=\"1\" class=\"dataframe\">\n",
              "  <thead>\n",
              "    <tr style=\"text-align: right;\">\n",
              "      <th></th>\n",
              "      <th>Restaurant Name</th>\n",
              "      <th>Cuisines</th>\n",
              "      <th>Aggregate rating</th>\n",
              "      <th>Votes</th>\n",
              "      <th>Price range</th>\n",
              "      <th>City</th>\n",
              "      <th>Average Cost for two</th>\n",
              "      <th>Has Online delivery</th>\n",
              "      <th>Has Table booking</th>\n",
              "    </tr>\n",
              "  </thead>\n",
              "  <tbody>\n",
              "    <tr>\n",
              "      <th>0</th>\n",
              "      <td>Sky Beach</td>\n",
              "      <td>North Indian, Continental, Chinese, Mexican, I...</td>\n",
              "      <td>2.6</td>\n",
              "      <td>46</td>\n",
              "      <td>3</td>\n",
              "      <td>Jaipur</td>\n",
              "      <td>1000</td>\n",
              "      <td>No</td>\n",
              "      <td>No</td>\n",
              "    </tr>\n",
              "    <tr>\n",
              "      <th>1</th>\n",
              "      <td>Nibs Cafe</td>\n",
              "      <td>Cafe, Italian, Continental</td>\n",
              "      <td>4.4</td>\n",
              "      <td>389</td>\n",
              "      <td>2</td>\n",
              "      <td>Jaipur</td>\n",
              "      <td>750</td>\n",
              "      <td>Yes</td>\n",
              "      <td>No</td>\n",
              "    </tr>\n",
              "    <tr>\n",
              "      <th>2</th>\n",
              "      <td>Mutual's</td>\n",
              "      <td>Cafe, Mexican, Italian, North Indian, Fast Food</td>\n",
              "      <td>4.2</td>\n",
              "      <td>198</td>\n",
              "      <td>2</td>\n",
              "      <td>Jaipur</td>\n",
              "      <td>650</td>\n",
              "      <td>Yes</td>\n",
              "      <td>No</td>\n",
              "    </tr>\n",
              "    <tr>\n",
              "      <th>3</th>\n",
              "      <td>WTF</td>\n",
              "      <td>Continental, Italian, North Indian, Lebanese, ...</td>\n",
              "      <td>4.0</td>\n",
              "      <td>212</td>\n",
              "      <td>3</td>\n",
              "      <td>Jaipur</td>\n",
              "      <td>1000</td>\n",
              "      <td>No</td>\n",
              "      <td>No</td>\n",
              "    </tr>\n",
              "    <tr>\n",
              "      <th>4</th>\n",
              "      <td>Zolocrust - Hotel Clarks Amer</td>\n",
              "      <td>Italian, Bakery, Continental</td>\n",
              "      <td>4.9</td>\n",
              "      <td>322</td>\n",
              "      <td>4</td>\n",
              "      <td>Jaipur</td>\n",
              "      <td>2000</td>\n",
              "      <td>Yes</td>\n",
              "      <td>No</td>\n",
              "    </tr>\n",
              "  </tbody>\n",
              "</table>\n",
              "</div>\n",
              "    <div class=\"colab-df-buttons\">\n",
              "\n",
              "  <div class=\"colab-df-container\">\n",
              "    <button class=\"colab-df-convert\" onclick=\"convertToInteractive('df-a89b4e74-4266-4eb0-8d7b-8a030024fadb')\"\n",
              "            title=\"Convert this dataframe to an interactive table.\"\n",
              "            style=\"display:none;\">\n",
              "\n",
              "  <svg xmlns=\"http://www.w3.org/2000/svg\" height=\"24px\" viewBox=\"0 -960 960 960\">\n",
              "    <path d=\"M120-120v-720h720v720H120Zm60-500h600v-160H180v160Zm220 220h160v-160H400v160Zm0 220h160v-160H400v160ZM180-400h160v-160H180v160Zm440 0h160v-160H620v160ZM180-180h160v-160H180v160Zm440 0h160v-160H620v160Z\"/>\n",
              "  </svg>\n",
              "    </button>\n",
              "\n",
              "  <style>\n",
              "    .colab-df-container {\n",
              "      display:flex;\n",
              "      gap: 12px;\n",
              "    }\n",
              "\n",
              "    .colab-df-convert {\n",
              "      background-color: #E8F0FE;\n",
              "      border: none;\n",
              "      border-radius: 50%;\n",
              "      cursor: pointer;\n",
              "      display: none;\n",
              "      fill: #1967D2;\n",
              "      height: 32px;\n",
              "      padding: 0 0 0 0;\n",
              "      width: 32px;\n",
              "    }\n",
              "\n",
              "    .colab-df-convert:hover {\n",
              "      background-color: #E2EBFA;\n",
              "      box-shadow: 0px 1px 2px rgba(60, 64, 67, 0.3), 0px 1px 3px 1px rgba(60, 64, 67, 0.15);\n",
              "      fill: #174EA6;\n",
              "    }\n",
              "\n",
              "    .colab-df-buttons div {\n",
              "      margin-bottom: 4px;\n",
              "    }\n",
              "\n",
              "    [theme=dark] .colab-df-convert {\n",
              "      background-color: #3B4455;\n",
              "      fill: #D2E3FC;\n",
              "    }\n",
              "\n",
              "    [theme=dark] .colab-df-convert:hover {\n",
              "      background-color: #434B5C;\n",
              "      box-shadow: 0px 1px 3px 1px rgba(0, 0, 0, 0.15);\n",
              "      filter: drop-shadow(0px 1px 2px rgba(0, 0, 0, 0.3));\n",
              "      fill: #FFFFFF;\n",
              "    }\n",
              "  </style>\n",
              "\n",
              "    <script>\n",
              "      const buttonEl =\n",
              "        document.querySelector('#df-a89b4e74-4266-4eb0-8d7b-8a030024fadb button.colab-df-convert');\n",
              "      buttonEl.style.display =\n",
              "        google.colab.kernel.accessAllowed ? 'block' : 'none';\n",
              "\n",
              "      async function convertToInteractive(key) {\n",
              "        const element = document.querySelector('#df-a89b4e74-4266-4eb0-8d7b-8a030024fadb');\n",
              "        const dataTable =\n",
              "          await google.colab.kernel.invokeFunction('convertToInteractive',\n",
              "                                                    [key], {});\n",
              "        if (!dataTable) return;\n",
              "\n",
              "        const docLinkHtml = 'Like what you see? Visit the ' +\n",
              "          '<a target=\"_blank\" href=https://colab.research.google.com/notebooks/data_table.ipynb>data table notebook</a>'\n",
              "          + ' to learn more about interactive tables.';\n",
              "        element.innerHTML = '';\n",
              "        dataTable['output_type'] = 'display_data';\n",
              "        await google.colab.output.renderOutput(dataTable, element);\n",
              "        const docLink = document.createElement('div');\n",
              "        docLink.innerHTML = docLinkHtml;\n",
              "        element.appendChild(docLink);\n",
              "      }\n",
              "    </script>\n",
              "  </div>\n",
              "\n",
              "\n",
              "    <div id=\"df-5a452834-5eb8-4b77-84dc-0382ea1a28a7\">\n",
              "      <button class=\"colab-df-quickchart\" onclick=\"quickchart('df-5a452834-5eb8-4b77-84dc-0382ea1a28a7')\"\n",
              "                title=\"Suggest charts\"\n",
              "                style=\"display:none;\">\n",
              "\n",
              "<svg xmlns=\"http://www.w3.org/2000/svg\" height=\"24px\"viewBox=\"0 0 24 24\"\n",
              "     width=\"24px\">\n",
              "    <g>\n",
              "        <path d=\"M19 3H5c-1.1 0-2 .9-2 2v14c0 1.1.9 2 2 2h14c1.1 0 2-.9 2-2V5c0-1.1-.9-2-2-2zM9 17H7v-7h2v7zm4 0h-2V7h2v10zm4 0h-2v-4h2v4z\"/>\n",
              "    </g>\n",
              "</svg>\n",
              "      </button>\n",
              "\n",
              "<style>\n",
              "  .colab-df-quickchart {\n",
              "      --bg-color: #E8F0FE;\n",
              "      --fill-color: #1967D2;\n",
              "      --hover-bg-color: #E2EBFA;\n",
              "      --hover-fill-color: #174EA6;\n",
              "      --disabled-fill-color: #AAA;\n",
              "      --disabled-bg-color: #DDD;\n",
              "  }\n",
              "\n",
              "  [theme=dark] .colab-df-quickchart {\n",
              "      --bg-color: #3B4455;\n",
              "      --fill-color: #D2E3FC;\n",
              "      --hover-bg-color: #434B5C;\n",
              "      --hover-fill-color: #FFFFFF;\n",
              "      --disabled-bg-color: #3B4455;\n",
              "      --disabled-fill-color: #666;\n",
              "  }\n",
              "\n",
              "  .colab-df-quickchart {\n",
              "    background-color: var(--bg-color);\n",
              "    border: none;\n",
              "    border-radius: 50%;\n",
              "    cursor: pointer;\n",
              "    display: none;\n",
              "    fill: var(--fill-color);\n",
              "    height: 32px;\n",
              "    padding: 0;\n",
              "    width: 32px;\n",
              "  }\n",
              "\n",
              "  .colab-df-quickchart:hover {\n",
              "    background-color: var(--hover-bg-color);\n",
              "    box-shadow: 0 1px 2px rgba(60, 64, 67, 0.3), 0 1px 3px 1px rgba(60, 64, 67, 0.15);\n",
              "    fill: var(--button-hover-fill-color);\n",
              "  }\n",
              "\n",
              "  .colab-df-quickchart-complete:disabled,\n",
              "  .colab-df-quickchart-complete:disabled:hover {\n",
              "    background-color: var(--disabled-bg-color);\n",
              "    fill: var(--disabled-fill-color);\n",
              "    box-shadow: none;\n",
              "  }\n",
              "\n",
              "  .colab-df-spinner {\n",
              "    border: 2px solid var(--fill-color);\n",
              "    border-color: transparent;\n",
              "    border-bottom-color: var(--fill-color);\n",
              "    animation:\n",
              "      spin 1s steps(1) infinite;\n",
              "  }\n",
              "\n",
              "  @keyframes spin {\n",
              "    0% {\n",
              "      border-color: transparent;\n",
              "      border-bottom-color: var(--fill-color);\n",
              "      border-left-color: var(--fill-color);\n",
              "    }\n",
              "    20% {\n",
              "      border-color: transparent;\n",
              "      border-left-color: var(--fill-color);\n",
              "      border-top-color: var(--fill-color);\n",
              "    }\n",
              "    30% {\n",
              "      border-color: transparent;\n",
              "      border-left-color: var(--fill-color);\n",
              "      border-top-color: var(--fill-color);\n",
              "      border-right-color: var(--fill-color);\n",
              "    }\n",
              "    40% {\n",
              "      border-color: transparent;\n",
              "      border-right-color: var(--fill-color);\n",
              "      border-top-color: var(--fill-color);\n",
              "    }\n",
              "    60% {\n",
              "      border-color: transparent;\n",
              "      border-right-color: var(--fill-color);\n",
              "    }\n",
              "    80% {\n",
              "      border-color: transparent;\n",
              "      border-right-color: var(--fill-color);\n",
              "      border-bottom-color: var(--fill-color);\n",
              "    }\n",
              "    90% {\n",
              "      border-color: transparent;\n",
              "      border-bottom-color: var(--fill-color);\n",
              "    }\n",
              "  }\n",
              "</style>\n",
              "\n",
              "      <script>\n",
              "        async function quickchart(key) {\n",
              "          const quickchartButtonEl =\n",
              "            document.querySelector('#' + key + ' button');\n",
              "          quickchartButtonEl.disabled = true;  // To prevent multiple clicks.\n",
              "          quickchartButtonEl.classList.add('colab-df-spinner');\n",
              "          try {\n",
              "            const charts = await google.colab.kernel.invokeFunction(\n",
              "                'suggestCharts', [key], {});\n",
              "          } catch (error) {\n",
              "            console.error('Error during call to suggestCharts:', error);\n",
              "          }\n",
              "          quickchartButtonEl.classList.remove('colab-df-spinner');\n",
              "          quickchartButtonEl.classList.add('colab-df-quickchart-complete');\n",
              "        }\n",
              "        (() => {\n",
              "          let quickchartButtonEl =\n",
              "            document.querySelector('#df-5a452834-5eb8-4b77-84dc-0382ea1a28a7 button');\n",
              "          quickchartButtonEl.style.display =\n",
              "            google.colab.kernel.accessAllowed ? 'block' : 'none';\n",
              "        })();\n",
              "      </script>\n",
              "    </div>\n",
              "\n",
              "    </div>\n",
              "  </div>\n"
            ],
            "application/vnd.google.colaboratory.intrinsic+json": {
              "type": "dataframe",
              "summary": "{\n  \"name\": \"interactive_recommender()\",\n  \"rows\": 5,\n  \"fields\": [\n    {\n      \"column\": \"Restaurant Name\",\n      \"properties\": {\n        \"dtype\": \"string\",\n        \"num_unique_values\": 5,\n        \"samples\": [\n          \"Nibs Cafe\",\n          \"Zolocrust - Hotel Clarks Amer\",\n          \"Mutual's\"\n        ],\n        \"semantic_type\": \"\",\n        \"description\": \"\"\n      }\n    },\n    {\n      \"column\": \"Cuisines\",\n      \"properties\": {\n        \"dtype\": \"string\",\n        \"num_unique_values\": 5,\n        \"samples\": [\n          \"Cafe, Italian, Continental\",\n          \"Italian, Bakery, Continental\",\n          \"Cafe, Mexican, Italian, North Indian, Fast Food\"\n        ],\n        \"semantic_type\": \"\",\n        \"description\": \"\"\n      }\n    },\n    {\n      \"column\": \"Aggregate rating\",\n      \"properties\": {\n        \"dtype\": \"number\",\n        \"std\": 0.8613942186943213,\n        \"min\": 2.6,\n        \"max\": 4.9,\n        \"num_unique_values\": 5,\n        \"samples\": [\n          4.4,\n          4.9,\n          4.2\n        ],\n        \"semantic_type\": \"\",\n        \"description\": \"\"\n      }\n    },\n    {\n      \"column\": \"Votes\",\n      \"properties\": {\n        \"dtype\": \"number\",\n        \"std\": 131,\n        \"min\": 46,\n        \"max\": 389,\n        \"num_unique_values\": 5,\n        \"samples\": [\n          389,\n          322,\n          198\n        ],\n        \"semantic_type\": \"\",\n        \"description\": \"\"\n      }\n    },\n    {\n      \"column\": \"Price range\",\n      \"properties\": {\n        \"dtype\": \"number\",\n        \"std\": 0,\n        \"min\": 2,\n        \"max\": 4,\n        \"num_unique_values\": 3,\n        \"samples\": [\n          3,\n          2,\n          4\n        ],\n        \"semantic_type\": \"\",\n        \"description\": \"\"\n      }\n    },\n    {\n      \"column\": \"City\",\n      \"properties\": {\n        \"dtype\": \"category\",\n        \"num_unique_values\": 1,\n        \"samples\": [\n          \"Jaipur\"\n        ],\n        \"semantic_type\": \"\",\n        \"description\": \"\"\n      }\n    },\n    {\n      \"column\": \"Average Cost for two\",\n      \"properties\": {\n        \"dtype\": \"number\",\n        \"std\": 536,\n        \"min\": 650,\n        \"max\": 2000,\n        \"num_unique_values\": 4,\n        \"samples\": [\n          750\n        ],\n        \"semantic_type\": \"\",\n        \"description\": \"\"\n      }\n    },\n    {\n      \"column\": \"Has Online delivery\",\n      \"properties\": {\n        \"dtype\": \"category\",\n        \"num_unique_values\": 2,\n        \"samples\": [\n          \"Yes\"\n        ],\n        \"semantic_type\": \"\",\n        \"description\": \"\"\n      }\n    },\n    {\n      \"column\": \"Has Table booking\",\n      \"properties\": {\n        \"dtype\": \"category\",\n        \"num_unique_values\": 1,\n        \"samples\": [\n          \"No\"\n        ],\n        \"semantic_type\": \"\",\n        \"description\": \"\"\n      }\n    }\n  ]\n}"
            }
          },
          "metadata": {}
        }
      ]
    },
    {
      "cell_type": "markdown",
      "source": [
        "---\n",
        "---"
      ],
      "metadata": {
        "id": "wzXePj9P83LA"
      }
    },
    {
      "cell_type": "markdown",
      "source": [
        "## 9. Interpretation & Business Insights\n",
        "\n",
        "- **Approach:** Content‑based filtering combining cuisine TF‑Irest_data, price, and ratings  \n",
        "- **Key factors:**  \n",
        "  - Similar cuisines → higher similarity score  \n",
        "  - Price range buckets help match affordability  \n",
        "  - Aggregate ratings bias toward higher‑rated venues  \n",
        "- **Potential improvements:**  \n",
        "  1. Introduce **user profiles** to weight criteria (e.g. rating vs. price).  \n",
        "  2. Blend in **collaborative filtering** for new cuisines.  \n",
        "  3. Expand **evaluation** with real user feedback and metrics like Recall@K.  \n"
      ],
      "metadata": {
        "id": "s8RXrNdu80So"
      }
    },
    {
      "cell_type": "markdown",
      "source": [
        "---\n",
        "---\n",
        "---"
      ],
      "metadata": {
        "id": "raPvYL1bGzB-"
      }
    }
  ]
}